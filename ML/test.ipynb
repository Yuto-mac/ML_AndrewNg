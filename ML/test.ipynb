{
 "cells": [
  {
   "cell_type": "code",
   "execution_count": 1,
   "metadata": {},
   "outputs": [
    {
     "data": {
      "text/plain": [
       "{'cost': [], 'params': [], 'grads': [], 'iter': []}"
      ]
     },
     "execution_count": 1,
     "metadata": {},
     "output_type": "execute_result"
    }
   ],
   "source": [
    "hist={}\n",
    "hist[\"cost\"] = []; hist[\"params\"] = []; hist[\"grads\"]=[]; hist[\"iter\"]=[];\n",
    "hist"
   ]
  },
  {
   "cell_type": "code",
   "execution_count": 9,
   "metadata": {},
   "outputs": [
    {
     "name": "stdout",
     "output_type": "stream",
     "text": [
      "0\n",
      "2\n"
     ]
    },
    {
     "data": {
      "text/plain": [
       "False"
      ]
     },
     "execution_count": 9,
     "metadata": {},
     "output_type": "execute_result"
    }
   ],
   "source": [
    "def canJump(nums) -> bool:\n",
    "        n = len(nums)\n",
    "        i = 0\n",
    "        while True:\n",
    "            print(i)\n",
    "            if i >= n - 1:\n",
    "                return True\n",
    "            if nums[i] == 0:\n",
    "                return False\n",
    "            i += nums[i]\n",
    "        \n",
    "        return False\n",
    "\n",
    "nums = [2, 5, 0, 0]\n",
    "canJump(nums)"
   ]
  },
  {
   "cell_type": "code",
   "execution_count": 3,
   "metadata": {},
   "outputs": [
    {
     "data": {
      "text/plain": [
       "array([[-3, -1,  0],\n",
       "       [-3, -3,  1],\n",
       "       [-2,  2,  3]])"
      ]
     },
     "execution_count": 3,
     "metadata": {},
     "output_type": "execute_result"
    }
   ],
   "source": [
    "import numpy as np\n",
    "X = np.array([[0,2,1], [1,4,0], [3,3,2]])\n",
    "Y = np.array([[1,1,1],[-1,-1,0],[-1,1,0]])\n",
    "np.dot(X, Y)"
   ]
  }
 ],
 "metadata": {
  "kernelspec": {
   "display_name": "base",
   "language": "python",
   "name": "python3"
  },
  "language_info": {
   "codemirror_mode": {
    "name": "ipython",
    "version": 3
   },
   "file_extension": ".py",
   "mimetype": "text/x-python",
   "name": "python",
   "nbconvert_exporter": "python",
   "pygments_lexer": "ipython3",
   "version": "3.11.5"
  }
 },
 "nbformat": 4,
 "nbformat_minor": 2
}
